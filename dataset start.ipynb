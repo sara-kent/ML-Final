{
 "cells": [
  {
   "cell_type": "markdown",
   "id": "fd7e306a",
   "metadata": {},
   "source": [
    "### TO DO\n",
    "1. data preprocessing\n",
    "- notes we got: For example, the vote count and popularity score variables may not be good features to use as they are more likely to be response variables. A good rule of thumb is: if there is a new movie that has not been released yet, what features will we have and which will be not have?\n",
    "2. train linear regression\n",
    "- use budget & time of year to keep it simple\n",
    "- flag \n",
    "3. train polynomial\n",
    "- same deal as above\n",
    "4. train RF\n",
    "- add categorical vars\n",
    "5. train adaboost\n",
    "- same deal"
   ]
  },
  {
   "cell_type": "markdown",
   "id": "e4f6825d",
   "metadata": {},
   "source": [
    "### Data Cleaning\n",
    "1. do we keep 2020 in there since that year is messed up\n",
    "2. how do we standardize/ can we keep reviews in there??\n",
    "3. are we doing profit?"
   ]
  },
  {
   "cell_type": "code",
   "execution_count": null,
   "id": "8e17e85a",
   "metadata": {},
   "outputs": [],
   "source": [
    "SARA_FILEPATH = '/Users/sarakent/Desktop/ML 1/TMDB_movie_dataset_v11.csv'   #too large to add to git, adding file path ehre"
   ]
  },
  {
   "cell_type": "code",
   "execution_count": null,
   "id": "15f16212",
   "metadata": {},
   "outputs": [],
   "source": [
    "import pandas as pd\n",
    "from matplotlib import pyplot as plt\n",
    "import pandas as pd\n",
    "from sklearn.feature_extraction.text import CountVectorizer\n",
    "import nltk\n",
    "from nltk.corpus import stopwords\n",
    "from nltk.stem import WordNetLemmatizer\n",
    "import re\n",
    "import numpy as np"
   ]
  },
  {
   "cell_type": "code",
   "execution_count": null,
   "id": "a9ce4c3a",
   "metadata": {},
   "outputs": [],
   "source": [
    "df = pd.read_csv(SARA_FILEPATH)\n",
    "df.head(2)"
   ]
  },
  {
   "cell_type": "code",
   "execution_count": null,
   "id": "48756d70",
   "metadata": {},
   "outputs": [],
   "source": [
    "df.columns"
   ]
  },
  {
   "cell_type": "code",
   "execution_count": null,
   "id": "8200c818",
   "metadata": {},
   "outputs": [],
   "source": [
    "# keeping columns we are interested in\n",
    "# col_lst = ['id', 'title', 'vote_average', 'vote_count', 'status', 'release_date', 'revenue',\n",
    "#           'runtime', 'adult', 'budget', 'popularity', 'genres', 'production_companies',\n",
    "#           'spoken_languages']\n",
    "# df = df[col_lst]\n",
    "df['release_date'] = pd.to_datetime(df.release_date)\n",
    "df = df[(df['status'] == 'Released') & \n",
    "        (df['budget'] > 10000) & \n",
    "        (df['release_date'].notna()) & \n",
    "        (df['genres'].notna()) &\n",
    "        (df['runtime'] != 0) & \n",
    "        (df['release_date'] > '1950-01-01') &\n",
    "        (df['tagline'].notna()) &\n",
    "        (df['overview'].notna())]"
   ]
  },
  {
   "cell_type": "code",
   "execution_count": null,
   "id": "ef0927dc",
   "metadata": {},
   "outputs": [],
   "source": [
    "df"
   ]
  },
  {
   "cell_type": "code",
   "execution_count": null,
   "id": "305b4f14",
   "metadata": {},
   "outputs": [],
   "source": [
    "df['profit'] = df.revenue - df.budget"
   ]
  },
  {
   "cell_type": "code",
   "execution_count": null,
   "id": "abedd2e3",
   "metadata": {},
   "outputs": [],
   "source": [
    "df.profit.mean(), df.profit.max(), df.profit.min()"
   ]
  },
  {
   "cell_type": "code",
   "execution_count": null,
   "id": "ed0434ec",
   "metadata": {
    "scrolled": false
   },
   "outputs": [],
   "source": [
    "plt.figure(figsize=(20, 10))\n",
    "plt.scatter(df.release_date, df.profit)\n",
    "plt.show()"
   ]
  },
  {
   "cell_type": "code",
   "execution_count": null,
   "id": "1947afe0",
   "metadata": {},
   "outputs": [],
   "source": [
    "plt.figure(figsize=(20, 10))\n",
    "plt.scatter(df.release_date, df.revenue)\n",
    "plt.show()"
   ]
  },
  {
   "cell_type": "code",
   "execution_count": null,
   "id": "a327a2cf",
   "metadata": {},
   "outputs": [],
   "source": [
    "df=df[df.tagline.notna() & df.overview.notna()]"
   ]
  },
  {
   "cell_type": "code",
   "execution_count": null,
   "id": "c8561965",
   "metadata": {},
   "outputs": [],
   "source": [
    "\n",
    "\n",
    "# Download NLTK stopwords\n",
    "# nltk.download('stopwords')\n",
    "nltk.download('wordnet')\n",
    "# Get the English stopwords list\n",
    "stop_words = set(stopwords.words('english'))\n",
    "\n",
    "\n",
    "# Function to remove stopwords and numbers from text\n",
    "def preprocess_text(text):\n",
    "    lemmatizer = WordNetLemmatizer()\n",
    "    stop_words = set(stopwords.words('english'))\n",
    "    \n",
    "    # Tokenize text\n",
    "    words = text.split()\n",
    "    \n",
    "    # Remove stopwords and numbers\n",
    "    filtered_words = filtered_words = [lemmatizer.lemmatize(word.lower()) for word in words if word.lower() not in stop_words and not word.isdigit()]\n",
    "    \n",
    "    # Join the filtered words back into a single string\n",
    "    processed_text = ' '.join(filtered_words)\n",
    "    \n",
    "    return processed_text"
   ]
  },
  {
   "cell_type": "code",
   "execution_count": null,
   "id": "7fdec7e4",
   "metadata": {},
   "outputs": [],
   "source": [
    "df.reset_index(inplace=True)"
   ]
  },
  {
   "cell_type": "code",
   "execution_count": null,
   "id": "4e936a2a",
   "metadata": {},
   "outputs": [],
   "source": [
    "\n",
    "# Load your movie dataset\n",
    "# For illustration, let's assume 'data' is your DataFrame containing movie data\n",
    "\n",
    "# Combine text fields into one\n",
    "df['text'] = df['original_title'] + ' ' + df['overview'] + ' ' + df['tagline']\n",
    "ids = df['id']\n",
    "\n",
    "# Initialize CountVectorizer to convert text into word frequency vectors\n",
    "df['text'] = df['text'].apply(preprocess_text)\n",
    "vectorizer = CountVectorizer()\n",
    "\n",
    "# Fit and transform the combined text to get the word frequency vectors\n",
    "word_freq_matrix = vectorizer.fit_transform(df['text'])\n",
    "\n",
    "# Convert the word frequency matrix to a DataFrame\n",
    "word_freq_df = pd.DataFrame(word_freq_matrix.toarray(), columns=vectorizer.get_feature_names_out())\n",
    "\n",
    "# Calculate the sum of occurrences of each word across rows\n",
    "word_freq_sum = word_freq_df.sum()\n",
    "# Calculate the percentile threshold (e.g., top 25th percentile)\n",
    "percentile_threshold = np.percentile(word_freq_sum, 99.9)  # Keep words within the top 25th percentile\n",
    "\n",
    "# Filter to include only columns where the frequency is within the percentile threshold\n",
    "significant_word_freq = word_freq_df.loc[:, word_freq_sum >= percentile_threshold]\n",
    "word_freqs = pd.concat([ids, significant_word_freq], axis=1)"
   ]
  },
  {
   "cell_type": "code",
   "execution_count": null,
   "id": "bc759c6a",
   "metadata": {
    "scrolled": true
   },
   "outputs": [],
   "source": [
    "word_freqs.head()"
   ]
  },
  {
   "cell_type": "code",
   "execution_count": null,
   "id": "fd21c794",
   "metadata": {},
   "outputs": [],
   "source": [
    "features = df[['id', 'genres', 'title', 'budget', 'release_date', 'production_companies']]"
   ]
  },
  {
   "cell_type": "code",
   "execution_count": null,
   "id": "be37cf90",
   "metadata": {},
   "outputs": [],
   "source": [
    "features"
   ]
  },
  {
   "cell_type": "code",
   "execution_count": null,
   "id": "0fd6c61d",
   "metadata": {},
   "outputs": [],
   "source": [
    "final_df = word_freqs.join(features.set_index('id'), on='id', lsuffix='_word_freqs', rsuffix='_df')"
   ]
  },
  {
   "cell_type": "code",
   "execution_count": null,
   "id": "4f1f8b80",
   "metadata": {},
   "outputs": [],
   "source": [
    "final_df.to_csv('movie.csv')"
   ]
  }
 ],
 "metadata": {
  "kernelspec": {
   "display_name": "Python 3 (ipykernel)",
   "language": "python",
   "name": "python3"
  },
  "language_info": {
   "codemirror_mode": {
    "name": "ipython",
    "version": 3
   },
   "file_extension": ".py",
   "mimetype": "text/x-python",
   "name": "python",
   "nbconvert_exporter": "python",
   "pygments_lexer": "ipython3",
   "version": "3.9.16"
  }
 },
 "nbformat": 4,
 "nbformat_minor": 5
}
