{
 "cells": [
  {
   "cell_type": "markdown",
   "id": "4488b031",
   "metadata": {},
   "source": [
    "### TO DO\n",
    "1. data preprocessing\n",
    "- notes we got: For example, the vote count and popularity score variables may not be good features to use as they are more likely to be response variables. A good rule of thumb is: if there is a new movie that has not been released yet, what features will we have and which will be not have?\n",
    "2. train linear regression\n",
    "3. train polynomial\n",
    "4. train classifier"
   ]
  }
 ],
 "metadata": {
  "kernelspec": {
   "display_name": "Python 3 (ipykernel)",
   "language": "python",
   "name": "python3"
  },
  "language_info": {
   "codemirror_mode": {
    "name": "ipython",
    "version": 3
   },
   "file_extension": ".py",
   "mimetype": "text/x-python",
   "name": "python",
   "nbconvert_exporter": "python",
   "pygments_lexer": "ipython3",
   "version": "3.9.16"
  }
 },
 "nbformat": 4,
 "nbformat_minor": 5
}
